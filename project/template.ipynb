{
 "cells": [
  {
   "attachments": {},
   "cell_type": "markdown",
   "metadata": {},
   "source": [
    "# Welcome to Full Stack Machine Learning's Week 4 Project!\n",
    "\n",
    "In the final week, you will return to the workflow you built last week on the [taxi dataset](https://www.nyc.gov/site/tlc/about/tlc-trip-record-data.page). "
   ]
  },
  {
   "attachments": {},
   "cell_type": "markdown",
   "metadata": {},
   "source": [
    "## Task 1: Deploy the champion\n",
    "Use what you have learned in the last two weeks to make necessary modifications and to deploy your latest version of the `TaxiFarePrediction` flow to Argo. Use `--branch champion` to denote this deployment as the champion model."
   ]
  },
  {
   "attachments": {},
   "cell_type": "markdown",
   "metadata": {},
   "source": [
    "### The Baseline Model\n",
    "\n",
    "Use the code from Week 3 project.\n"
   ]
  },
  {
   "cell_type": "code",
   "execution_count": 103,
   "metadata": {},
   "outputs": [
    {
     "name": "stdout",
     "output_type": "stream",
     "text": [
      "Overwriting ./taxi_faire_linear_regression.py\n"
     ]
    }
   ],
   "source": [
    "%%writefile ./taxi_faire_linear_regression.py\n",
    "from metaflow import FlowSpec, step, card, conda_base, current, Parameter, Flow, project, retry\n",
    "from metaflow.cards import Markdown, Table, Image, Artifact\n",
    "\n",
    "URL = \"https://outerbounds-datasets.s3.us-west-2.amazonaws.com/taxi/latest.parquet\"\n",
    "DATETIME_FORMAT = \"%Y-%m-%d %H:%M:%S\"\n",
    "\n",
    "# @trigger(events=[\"s3\"])   # Disable trigger for this project.\n",
    "@project(name=\"fullstack\")  # <-- Add project\n",
    "@conda_base(\n",
    "    libraries={\n",
    "        \"pandas\": \"1.4.2\",\n",
    "        \"pyarrow\": \"11.0.0\",\n",
    "        \"scikit-learn\": \"1.1.2\",\n",
    "    }\n",
    ")\n",
    "class TaxiFarePrediction(FlowSpec):\n",
    "    data_url = Parameter(\"data_url\", default=URL)\n",
    "\n",
    "    def transform_features(self, df):\n",
    "        idx = (df.fare_amount > 0)\n",
    "        idx &= (df.trip_distance <= 100)\n",
    "        idx &= (df.trip_distance > 0)\n",
    "        idx &= (df.tip_amount >= 0)\n",
    "        df = df[idx]\n",
    "        return df\n",
    "\n",
    "    @step\n",
    "    def start(self):\n",
    "        import pandas as pd\n",
    "        from sklearn.model_selection import train_test_split\n",
    "        df = pd.read_parquet(self.data_url)\n",
    "        self.df = self.transform_features(df)\n",
    "        self.X = self.df[\"trip_distance\"].values.reshape(-1, 1)\n",
    "        self.y = self.df[\"total_amount\"].values\n",
    "        self.next(self.linear_model)\n",
    "\n",
    "    @step\n",
    "    def linear_model(self):\n",
    "        \"Fit a single variable, linear model to the data.\"\n",
    "        from sklearn.linear_model import LinearRegression\n",
    "        self.model_type = \"LinearRegression\"\n",
    "        self.model = LinearRegression()\n",
    "        self.next(self.validate)\n",
    "\n",
    "    @card(type=\"corise\")\n",
    "    @retry(times=2) \n",
    "    @step\n",
    "    def validate(self):\n",
    "        from sklearn.model_selection import cross_val_score\n",
    "        # Get CV scores\n",
    "        self.scores = cross_val_score(self.model, self.X, self.y, cv=5)\n",
    "        # We still need to fit the model\n",
    "        self.model.fit(self.X, self.y)\n",
    "\n",
    "        # Cards\n",
    "        current.card.append(Markdown(\"# Taxi Fare Prediction Results\"))\n",
    "        current.card.append(Artifact(self.model_type, name=\"model_type\"))\n",
    "        current.card.append(Artifact(self.model, name=\"model\"))\n",
    "        current.card.append(Artifact(self.scores, name=\"CV scores\"))\n",
    "\n",
    "        self.next(self.end)\n",
    "\n",
    "    # @card\n",
    "    @step\n",
    "    def end(self):\n",
    "        print(\"Success!\")\n",
    "\n",
    "\n",
    "if __name__ == \"__main__\":\n",
    "    TaxiFarePrediction()"
   ]
  },
  {
   "attachments": {},
   "cell_type": "markdown",
   "metadata": {},
   "source": [
    "### Deploy with --production --branch champion"
   ]
  },
  {
   "cell_type": "code",
   "execution_count": 104,
   "metadata": {},
   "outputs": [],
   "source": [
    "%%capture cap --no-stderr\n",
    "# Deploy Baseline Model (LinearRegression)\n",
    "!python ./taxi_faire_linear_regression.py --environment=conda \\\n",
    "    --production --branch champion argo-workflows create"
   ]
  },
  {
   "cell_type": "code",
   "execution_count": 105,
   "metadata": {},
   "outputs": [
    {
     "name": "stdout",
     "output_type": "stream",
     "text": [
      "\u001b[35m\u001b[1mMetaflow 2.10.6+ob(v1)\u001b[0m\u001b[35m\u001b[22m executing \u001b[0m\u001b[31m\u001b[1mTaxiFarePrediction\u001b[0m\u001b[35m\u001b[22m\u001b[0m\u001b[35m\u001b[22m for \u001b[0m\u001b[31m\u001b[1muser:sandbox\u001b[0m\u001b[35m\u001b[22m\u001b[K\u001b[0m\u001b[35m\u001b[22m\u001b[0m\n",
      "\u001b[35m\u001b[22mProject: \u001b[0m\u001b[32m\u001b[1mfullstack\u001b[0m\u001b[35m\u001b[22m, Branch: \u001b[0m\u001b[32m\u001b[1mprod.champion\u001b[0m\u001b[35m\u001b[22m\u001b[K\u001b[0m\u001b[35m\u001b[22m\u001b[0m\n",
      "\u001b[35m\u001b[22mValidating your flow...\u001b[K\u001b[0m\u001b[35m\u001b[22m\u001b[0m\n",
      "\u001b[32m\u001b[1m    The graph looks good!\u001b[K\u001b[0m\u001b[32m\u001b[1m\u001b[0m\n",
      "\u001b[35m\u001b[22mRunning pylint...\u001b[K\u001b[0m\u001b[35m\u001b[22m\u001b[0m\n",
      "\u001b[32m\u001b[1m    Pylint is happy!\u001b[K\u001b[0m\u001b[32m\u001b[1m\u001b[0m\n",
      "\u001b[1mWorkflow \u001b[0m\u001b[31m\u001b[1mfullstack.prod.champion.taxifareprediction\u001b[0m\u001b[1m triggered on Argo Workflows (run-id \u001b[0m\u001b[31m\u001b[1margo-fullstack.prod.champion.taxifareprediction-jb6wq\u001b[0m\u001b[1m).\u001b[K\u001b[0m\u001b[1m\u001b[0m\n",
      "\u001b[1mSee the run in the UI at https://ui-pw-527107953.outerbounds.dev/TaxiFarePrediction/argo-fullstack.prod.champion.taxifareprediction-jb6wq\u001b[K\u001b[0m\u001b[1m\u001b[0m\n"
     ]
    }
   ],
   "source": [
    "# Manually trigger the Baseline Model\n",
    "!python ./taxi_faire_linear_regression.py --environment=conda \\\n",
    "    --production --branch champion argo-workflows trigger"
   ]
  },
  {
   "attachments": {},
   "cell_type": "markdown",
   "metadata": {},
   "source": [
    "## Task 2: Build the challenger\n",
    "Develop a second model, by using the same `TaxiFarePrediction` architecture. Then, deploy the flow to Argo as the `--branch challenger`. \n",
    "<br>\n",
    "<br>\n",
    "Hint: Modify the `linear_model` step. \n",
    "<br>\n",
    "Bonus: Write a paragraph summary of how you developed the second model and tested it before deploying the challenger flow. Let us know in Slack what you found challenging about the task? "
   ]
  },
  {
   "attachments": {},
   "cell_type": "markdown",
   "metadata": {},
   "source": [
    "### Test the new model in Notebook\n",
    "\n",
    "- Use X, y from the previous model.\n",
    "- Check if the scores are better than the baseline model."
   ]
  },
  {
   "cell_type": "code",
   "execution_count": 67,
   "metadata": {},
   "outputs": [
    {
     "name": "stdout",
     "output_type": "stream",
     "text": [
      "- X.shape = (863296, 1), y.shape = (863296,)\n"
     ]
    }
   ],
   "source": [
    "# Champ namespace\n",
    "champ_namespace = \"production:mfprj-cqkixzvdsy3tjqdh-0-ndkt\"\n",
    "namespace(champ_namespace)\n",
    "\n",
    "# Retrieve the data from the lastest run\n",
    "flow_name = \"TaxiFarePrediction\"\n",
    "run = Flow(flow_name).latest_successful_run\n",
    "X = run.data.X\n",
    "y = run.data.y\n",
    "print(f\"- X.shape = {X.shape}, y.shape = {y.shape}\")"
   ]
  },
  {
   "cell_type": "code",
   "execution_count": 58,
   "metadata": {},
   "outputs": [
    {
     "name": "stdout",
     "output_type": "stream",
     "text": [
      "Overall score = 0.9103405969815334\n"
     ]
    }
   ],
   "source": [
    "from sklearn.ensemble import GradientBoostingRegressor\n",
    "\n",
    "# Create a new model\n",
    "model = GradientBoostingRegressor()\n",
    "model.fit(X, y)\n",
    "print(f\"Overall score = {model.score(X, y)}\")"
   ]
  },
  {
   "cell_type": "code",
   "execution_count": 59,
   "metadata": {},
   "outputs": [
    {
     "name": "stdout",
     "output_type": "stream",
     "text": [
      "CV Score = [0.90333453 0.91098014 0.90638686 0.91128225 0.90649317]\n"
     ]
    }
   ],
   "source": [
    "# Cross-validation\n",
    "scores = cross_val_score(model, X, y, cv=5)\n",
    "print(f\"CV Score = {scores}\")"
   ]
  },
  {
   "attachments": {},
   "cell_type": "markdown",
   "metadata": {},
   "source": [
    "### New Model File"
   ]
  },
  {
   "cell_type": "code",
   "execution_count": 106,
   "metadata": {},
   "outputs": [
    {
     "name": "stdout",
     "output_type": "stream",
     "text": [
      "Overwriting ./taxi_faire_gradient_boosting_regressor.py\n"
     ]
    }
   ],
   "source": [
    "%%writefile ./taxi_faire_gradient_boosting_regressor.py\n",
    "from metaflow import FlowSpec, step, card, conda_base, current, Parameter, Flow, project, retry\n",
    "from metaflow.cards import Markdown, Table, Image, Artifact\n",
    "\n",
    "URL = \"https://outerbounds-datasets.s3.us-west-2.amazonaws.com/taxi/latest.parquet\"\n",
    "DATETIME_FORMAT = \"%Y-%m-%d %H:%M:%S\"\n",
    "\n",
    "# @trigger(events=[\"s3\"])   # Disable trigger for this project.\n",
    "@project(name=\"fullstack\")  # <-- Add project\n",
    "@conda_base(\n",
    "    libraries={\n",
    "        \"pandas\": \"1.4.2\",\n",
    "        \"pyarrow\": \"11.0.0\",\n",
    "        \"scikit-learn\": \"1.1.2\",\n",
    "    }\n",
    ")\n",
    "class TaxiFarePrediction(FlowSpec):\n",
    "    data_url = Parameter(\"data_url\", default=URL)\n",
    "\n",
    "    def transform_features(self, df):\n",
    "        idx = (df.fare_amount > 0)\n",
    "        idx &= (df.trip_distance <= 100)\n",
    "        idx &= (df.trip_distance > 0)\n",
    "        idx &= (df.tip_amount >= 0)\n",
    "        df = df[idx]\n",
    "        return df\n",
    "\n",
    "    @step\n",
    "    def start(self):\n",
    "        import pandas as pd\n",
    "        df = pd.read_parquet(self.data_url)\n",
    "        self.df = self.transform_features(df)\n",
    "        self.X = self.df[\"trip_distance\"].values.reshape(-1, 1)\n",
    "        self.y = self.df[\"total_amount\"].values\n",
    "        self.next(self.gradient_boosting_regressor_model)\n",
    "\n",
    "    @step\n",
    "    def gradient_boosting_regressor_model(self):\n",
    "        \"Fit a single variable, linear model to the data.\"\n",
    "        from sklearn.ensemble import GradientBoostingRegressor\n",
    "        self.model_type = \"GradientBoostingRegressor\"\n",
    "        self.model = GradientBoostingRegressor()\n",
    "        self.next(self.validate)\n",
    "\n",
    "    @card(type=\"corise\")\n",
    "    @retry(times=2) \n",
    "    @step\n",
    "    def validate(self):\n",
    "        from sklearn.model_selection import cross_val_score\n",
    "        # Get CV scores\n",
    "        self.scores = cross_val_score(self.model, self.X, self.y, cv=5)\n",
    "\n",
    "        # Fit the model with all of the data\n",
    "        self.model.fit(self.X, self.y)\n",
    "\n",
    "        # Cards\n",
    "        current.card.append(Markdown(\"# Taxi Fare Prediction Results\"))\n",
    "        current.card.append(Artifact(self.model_type, name=\"model_type\"))\n",
    "        current.card.append(Artifact(self.model, name=\"model\"))\n",
    "        current.card.append(Artifact(self.scores, name=\"CV scores\"))\n",
    "\n",
    "        self.next(self.end)\n",
    "\n",
    "    # @card  # Default card\n",
    "    @step\n",
    "    def end(self):\n",
    "        print(\"Success!\")\n",
    "\n",
    "\n",
    "if __name__ == \"__main__\":\n",
    "    TaxiFarePrediction()"
   ]
  },
  {
   "cell_type": "markdown",
   "metadata": {},
   "source": [
    "### Deploy with --production --branch challenger"
   ]
  },
  {
   "cell_type": "code",
   "execution_count": 107,
   "metadata": {},
   "outputs": [],
   "source": [
    "%%capture cap --no-stderr\n",
    "# Deploy the Challenger model\n",
    "!python ./taxi_faire_gradient_boosting_regressor.py --environment=conda \\\n",
    "    --production --branch challenger argo-workflows create"
   ]
  },
  {
   "cell_type": "code",
   "execution_count": 108,
   "metadata": {},
   "outputs": [
    {
     "name": "stdout",
     "output_type": "stream",
     "text": [
      "\u001b[35m\u001b[1mMetaflow 2.10.6+ob(v1)\u001b[0m\u001b[35m\u001b[22m executing \u001b[0m\u001b[31m\u001b[1mTaxiFarePrediction\u001b[0m\u001b[35m\u001b[22m\u001b[0m\u001b[35m\u001b[22m for \u001b[0m\u001b[31m\u001b[1muser:sandbox\u001b[0m\u001b[35m\u001b[22m\u001b[K\u001b[0m\u001b[35m\u001b[22m\u001b[0m\n",
      "\u001b[35m\u001b[22mProject: \u001b[0m\u001b[32m\u001b[1mfullstack\u001b[0m\u001b[35m\u001b[22m, Branch: \u001b[0m\u001b[32m\u001b[1mprod.challenger\u001b[0m\u001b[35m\u001b[22m\u001b[K\u001b[0m\u001b[35m\u001b[22m\u001b[0m\n",
      "\u001b[35m\u001b[22mValidating your flow...\u001b[K\u001b[0m\u001b[35m\u001b[22m\u001b[0m\n",
      "\u001b[32m\u001b[1m    The graph looks good!\u001b[K\u001b[0m\u001b[32m\u001b[1m\u001b[0m\n",
      "\u001b[35m\u001b[22mRunning pylint...\u001b[K\u001b[0m\u001b[35m\u001b[22m\u001b[0m\n",
      "\u001b[32m\u001b[1m    Pylint is happy!\u001b[K\u001b[0m\u001b[32m\u001b[1m\u001b[0m\n",
      "\u001b[1mWorkflow \u001b[0m\u001b[31m\u001b[1mfullstack.prod.challenger.taxifareprediction\u001b[0m\u001b[1m triggered on Argo Workflows (run-id \u001b[0m\u001b[31m\u001b[1margo-fullstack.prod.challenger.taxifareprediction-pwgcq\u001b[0m\u001b[1m).\u001b[K\u001b[0m\u001b[1m\u001b[0m\n",
      "\u001b[1mSee the run in the UI at https://ui-pw-527107953.outerbounds.dev/TaxiFarePrediction/argo-fullstack.prod.challenger.taxifareprediction-pwgcq\u001b[K\u001b[0m\u001b[1m\u001b[0m\n"
     ]
    }
   ],
   "source": [
    "# Trigger\n",
    "!python ./taxi_faire_gradient_boosting_regressor.py --environment=conda \\\n",
    "    --production --branch challenger argo-workflows trigger"
   ]
  },
  {
   "attachments": {},
   "cell_type": "markdown",
   "metadata": {},
   "source": [
    "## Task 3: Analyze the results\n",
    "Return to this notebook, and read in the results of the challenger and champion flow using the Metaflow Client API.\n",
    "<br>\n",
    "\n",
    "#### Questions\n",
    "Q1. Does your model perform better on the metrics you selected? \n",
    "\n",
    "  * <font color='navy'>Yes, the challenger model has better metrics.</font>\n",
    "\n",
    "<p>\n",
    "\n",
    "Q2. Think about your day job, how would you go about assessing whether to roll forward the production \"champion\" to your new model? \n",
    "  - What gives you confidence one model is better than another?<font color='navy'>\n",
    "    * The cross-validation scores give us some confidence that the model performance is kind of consistent.\n",
    "    * Alternatively, we should have reserved some test data that are not used for modeling/CV.\n",
    "    </font>\n",
    "    \n",
    "    <br />\n",
    "\n",
    "  - What kinds of information do you need to monitor to get buy-in from stakeholders that model A is preferable to model B?  <font color='navy'>\n",
    "    * A/B testing with real-time data may help to convince people that the new model is doing better with latest data.\n",
    "    * The real-time performance metrics (e.g. considering the cost of running different models) may provide a better picture.\n",
    "    * Also need to check the confidence level, that the improvement is not just a random noise.\n",
    "    </font>"
   ]
  },
  {
   "cell_type": "markdown",
   "metadata": {},
   "source": [
    "### Analysis Code"
   ]
  },
  {
   "cell_type": "code",
   "execution_count": 83,
   "metadata": {},
   "outputs": [],
   "source": [
    "\n",
    "from metaflow import namespace, Flow\n",
    "\n",
    "def analyze_results(model_namespace: str, flow_name:str = \"TaxiFarePrediction\"):\n",
    "    ## Retrieve data\n",
    "    namespace(model_namespace)\n",
    "    run = Flow(flow_name).latest_successful_run\n",
    "    print(f\"- namespace = {model_namespace}\")\n",
    "    print(f\"- model_type = {run.data.model_type}\")\n",
    "    print(f\"- CV scores = {run.data.scores}\")\n",
    "\n",
    "    ## Test the model\n",
    "    # model = run.data.model\n",
    "    # X = run.data.X\n",
    "    # y = run.data.y\n",
    "    # print(f\"- X.shape = {X.shape}, y.shape = {y.shape}\")\n",
    "    # pred = model.predict(X[0:5])\n",
    "    # print(f\"- Sample predictions = {pred}\")\n",
    "    # score = model.score(X, y)\n",
    "    # print(f\"- Overall score = {score}\")\n",
    "\n"
   ]
  },
  {
   "cell_type": "code",
   "execution_count": 86,
   "metadata": {},
   "outputs": [
    {
     "name": "stdout",
     "output_type": "stream",
     "text": [
      "- namespace = production:mfprj-cqkixzvdsy3tjqdh-0-ndkt\n",
      "- model_type = LinearRegression\n",
      "- CV scores = [0.89223724 0.90081135 0.89633068 0.90003852 0.89430825]\n"
     ]
    }
   ],
   "source": [
    "# The Baseline Model\n",
    "champ_namespace = \"production:mfprj-cqkixzvdsy3tjqdh-0-ndkt\"\n",
    "analyze_results(champ_namespace)"
   ]
  },
  {
   "cell_type": "code",
   "execution_count": 87,
   "metadata": {},
   "outputs": [
    {
     "name": "stdout",
     "output_type": "stream",
     "text": [
      "- namespace = production:mfprj-uj55bdalmyvezuhl-0-bixe\n",
      "- model_type = GradientBoostingRegressor\n",
      "- CV scores = [0.90373194 0.9106865  0.90650655 0.9111977  0.90464117]\n"
     ]
    }
   ],
   "source": [
    "# The Challenge Model\n",
    "chanllenge_namespace = \"production:mfprj-uj55bdalmyvezuhl-0-bixe\"\n",
    "analyze_results(chanllenge_namespace)"
   ]
  },
  {
   "attachments": {},
   "cell_type": "markdown",
   "metadata": {},
   "source": [
    "## CONGRATULATIONS! 🎉✨🍾\n",
    "If you made it this far, you have completed the Full Stack Machine Learning Corise course. \n",
    "We are so glad that you chose to learn with us, and hope to see you again in future courses. Stay tuned for more content and come join us in [Slack](http://slack.outerbounds.co/) to keep learning about Metaflow!"
   ]
  }
 ],
 "metadata": {
  "kernelspec": {
   "display_name": "Full Stack ML Corise",
   "language": "python",
   "name": "full-stack-metaflow-corise"
  },
  "language_info": {
   "codemirror_mode": {
    "name": "ipython",
    "version": 3
   },
   "file_extension": ".py",
   "mimetype": "text/x-python",
   "name": "python",
   "nbconvert_exporter": "python",
   "pygments_lexer": "ipython3",
   "version": "3.10.12"
  },
  "orig_nbformat": 4
 },
 "nbformat": 4,
 "nbformat_minor": 2
}
