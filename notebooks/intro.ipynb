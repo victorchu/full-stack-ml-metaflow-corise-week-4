{
 "cells": [
  {
   "attachments": {},
   "cell_type": "markdown",
   "metadata": {},
   "source": [
    "# Teamwork Makes the Dream Work\n",
    "\n",
    "In week three, we deployed a workflow, which is awesome!\n",
    "Let's say you now want to keep improving this model. You want to go back and prototype, but you don’t want to overwrite your - or your teammate's - existing model.\n",
    "How can you setup parallel deployments to make this a seamless process? \n",
    "Moreover, as your project takes off and more developers at your organization want to contribute to your ML system, how to iterate on new, experimental versions of the workflow while providing stable results to your stakeholders? \n",
    "\n",
    "In this week, you will learn:\n",
    "___\n",
    "- Metaflowing well with others\n",
    "- Deploying parallel branches of your workflow to production using `@project`\n",
    "- Setting up a challenger/champion pattern in production\n",
    "- Analyzing results of Argo workflows in notebooks\n",
    "- Fundamentals of hosting models\n",
    "___\n"
   ]
  },
  {
   "cell_type": "code",
   "execution_count": 2,
   "metadata": {},
   "outputs": [],
   "source": [
    "%%capture cap --no-stderr\n",
    "\n",
    "# Run this cell to ensure dependencies for this week are in your full-stack-metaflow-corise environment. \n",
    "\n",
    "! mamba install fastapi uvicorn -y\n",
    "! pip install -U metaflow"
   ]
  },
  {
   "cell_type": "code",
   "execution_count": 3,
   "metadata": {},
   "outputs": [
    {
     "name": "stdout",
     "output_type": "stream",
     "text": [
      "\n",
      "                  __    __    __    __\n",
      "                 /  \\  /  \\  /  \\  /  \\\n",
      "                /    \\/    \\/    \\/    \\\n",
      "███████████████/  /██/  /██/  /██/  /████████████████████████\n",
      "              /  / \\   / \\   / \\   / \\  \\____\n",
      "             /  /   \\_/   \\_/   \\_/   \\    o \\__,\n",
      "            / _/                       \\_____/  `\n",
      "            |/\n",
      "        ███╗   ███╗ █████╗ ███╗   ███╗██████╗  █████╗\n",
      "        ████╗ ████║██╔══██╗████╗ ████║██╔══██╗██╔══██╗\n",
      "        ██╔████╔██║███████║██╔████╔██║██████╔╝███████║\n",
      "        ██║╚██╔╝██║██╔══██║██║╚██╔╝██║██╔══██╗██╔══██║\n",
      "        ██║ ╚═╝ ██║██║  ██║██║ ╚═╝ ██║██████╔╝██║  ██║\n",
      "        ╚═╝     ╚═╝╚═╝  ╚═╝╚═╝     ╚═╝╚═════╝ ╚═╝  ╚═╝\n",
      "\n",
      "        mamba (1.1.0) supported by @QuantStack\n",
      "\n",
      "        GitHub:  https://github.com/mamba-org/mamba\n",
      "        Twitter: https://twitter.com/QuantStack\n",
      "\n",
      "█████████████████████████████████████████████████████████████\n",
      "\n",
      "\n",
      "Looking for: ['fastapi', 'uvicorn']\n",
      "\n",
      "conda-forge/linux-64                                        Using cache\n",
      "conda-forge/noarch                                          Using cache\n",
      "\n",
      "Pinned packages:\n",
      "  - python 3.10.*\n",
      "\n",
      "\n",
      "Transaction\n",
      "\n",
      "  Prefix: /home/workspace/mambaforge/envs/full-stack-metaflow-corise\n",
      "\n",
      "  All requested packages already installed\n",
      "\n",
      "\u001b[?25l\u001b[2K\u001b[0G\u001b[?25hRequirement already satisfied: metaflow in /home/workspace/mambaforge/envs/full-stack-metaflow-corise/lib/python3.10/site-packages (2.10.6)\n",
      "Requirement already satisfied: boto3 in /home/workspace/mambaforge/envs/full-stack-metaflow-corise/lib/python3.10/site-packages (from metaflow) (1.26.164)\n",
      "Requirement already satisfied: requests in /home/workspace/mambaforge/envs/full-stack-metaflow-corise/lib/python3.10/site-packages (from metaflow) (2.31.0)\n",
      "Requirement already satisfied: s3transfer<0.7.0,>=0.6.0 in /home/workspace/mambaforge/envs/full-stack-metaflow-corise/lib/python3.10/site-packages (from boto3->metaflow) (0.6.1)\n",
      "Requirement already satisfied: jmespath<2.0.0,>=0.7.1 in /home/workspace/mambaforge/envs/full-stack-metaflow-corise/lib/python3.10/site-packages (from boto3->metaflow) (1.0.1)\n",
      "Requirement already satisfied: botocore<1.30.0,>=1.29.164 in /home/workspace/mambaforge/envs/full-stack-metaflow-corise/lib/python3.10/site-packages (from boto3->metaflow) (1.29.164)\n",
      "Requirement already satisfied: urllib3<3,>=1.21.1 in /home/workspace/mambaforge/envs/full-stack-metaflow-corise/lib/python3.10/site-packages (from requests->metaflow) (1.26.16)\n",
      "Requirement already satisfied: charset-normalizer<4,>=2 in /home/workspace/mambaforge/envs/full-stack-metaflow-corise/lib/python3.10/site-packages (from requests->metaflow) (3.1.0)\n",
      "Requirement already satisfied: certifi>=2017.4.17 in /home/workspace/mambaforge/envs/full-stack-metaflow-corise/lib/python3.10/site-packages (from requests->metaflow) (2023.7.22)\n",
      "Requirement already satisfied: idna<4,>=2.5 in /home/workspace/mambaforge/envs/full-stack-metaflow-corise/lib/python3.10/site-packages (from requests->metaflow) (3.4)\n",
      "Requirement already satisfied: python-dateutil<3.0.0,>=2.1 in /home/workspace/mambaforge/envs/full-stack-metaflow-corise/lib/python3.10/site-packages (from botocore<1.30.0,>=1.29.164->boto3->metaflow) (2.8.2)\n",
      "Requirement already satisfied: six>=1.5 in /home/workspace/mambaforge/envs/full-stack-metaflow-corise/lib/python3.10/site-packages (from python-dateutil<3.0.0,>=2.1->botocore<1.30.0,>=1.29.164->boto3->metaflow) (1.16.0)\n"
     ]
    }
   ],
   "source": [
    "cap()"
   ]
  }
 ],
 "metadata": {
  "kernelspec": {
   "display_name": "Full Stack ML Corise",
   "language": "python",
   "name": "full-stack-metaflow-corise"
  },
  "language_info": {
   "codemirror_mode": {
    "name": "ipython",
    "version": 3
   },
   "file_extension": ".py",
   "mimetype": "text/x-python",
   "name": "python",
   "nbconvert_exporter": "python",
   "pygments_lexer": "ipython3",
   "version": "3.10.12"
  },
  "orig_nbformat": 4
 },
 "nbformat": 4,
 "nbformat_minor": 2
}
