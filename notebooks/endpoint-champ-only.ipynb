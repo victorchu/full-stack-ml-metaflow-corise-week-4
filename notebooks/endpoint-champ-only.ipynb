{
 "cells": [
  {
   "attachments": {},
   "cell_type": "markdown",
   "metadata": {},
   "source": [
    "# Set the namespaces based on _your_ deployment"
   ]
  },
  {
   "cell_type": "code",
   "execution_count": 3,
   "metadata": {},
   "outputs": [
    {
     "name": "stdout",
     "output_type": "stream",
     "text": [
      "namespace = production:mfprj-xsfdb3gtsiboqyrd-0-vqsy\n"
     ]
    }
   ],
   "source": [
    "# Paste the namespace of your flow here. You can find it in Metaflow GUI. \n",
    "# For the baseline.\n",
    "# something like: 'production:mfprj-xsfdb3gtsiboqyrd-0-vqsy'\n",
    "champ_namespace = \"production:mfprj-xsfdb3gtsiboqyrd-0-vqsy\" \n",
    "print(f\"namespace = {champ_namespace}\")"
   ]
  },
  {
   "attachments": {},
   "cell_type": "markdown",
   "metadata": {},
   "source": [
    "# Configure the endpoints to set model state on the server"
   ]
  },
  {
   "cell_type": "code",
   "execution_count": 4,
   "metadata": {},
   "outputs": [
    {
     "name": "stdout",
     "output_type": "stream",
     "text": [
      "http://127.0.0.1:8000/load-models?champ_namespace=production:mfprj-xsfdb3gtsiboqyrd-0-vqsy\n"
     ]
    }
   ],
   "source": [
    "endpoint_uri_base = 'http://127.0.0.1:8000/'\n",
    "slug = 'load-models?champ_namespace={}'.format(champ_namespace)\n",
    "load_models_endpoint = endpoint_uri_base + slug\n",
    "print(load_models_endpoint)"
   ]
  },
  {
   "attachments": {},
   "cell_type": "markdown",
   "metadata": {},
   "source": [
    "# Run the uvicorn server\n",
    "\n",
    "Open a terminal and run:\n",
    "```sh\n",
    "uvicorn model-server:api\n",
    "```\n",
    "This needs to stay running while you complete the remaining cells of the notebook."
   ]
  },
  {
   "cell_type": "code",
   "execution_count": 19,
   "metadata": {},
   "outputs": [
    {
     "name": "stdout",
     "output_type": "stream",
     "text": [
      "URI = http://127.0.0.1:8000/\n",
      "Reponse = {'message': 'Hello there from model-server.py!'}\n"
     ]
    }
   ],
   "source": [
    "# TEST Server\n",
    "import requests\n",
    "try:\n",
    "    print(f\"URI = {endpoint_uri_base}\")\n",
    "    response = requests.get(endpoint_uri_base, verify=False, proxies={\"https\": endpoint_uri_base})\n",
    "    print(f\"Reponse = {response.json()}\")\n",
    "except requests.ConnectionError as e: \n",
    "    print(\"Did you run the server?!\")"
   ]
  },
  {
   "attachments": {},
   "cell_type": "markdown",
   "metadata": {},
   "source": [
    "# Load the champion model state on the server"
   ]
  },
  {
   "cell_type": "code",
   "execution_count": 20,
   "metadata": {},
   "outputs": [
    {
     "name": "stdout",
     "output_type": "stream",
     "text": [
      "URI = http://127.0.0.1:8000/load-models?champ_namespace=production:mfprj-xsfdb3gtsiboqyrd-0-vqsy\n",
      "Running baseline model as champion.\n"
     ]
    }
   ],
   "source": [
    "import requests\n",
    "try:\n",
    "    print(f\"URI = {load_models_endpoint}\")\n",
    "    response = requests.get(load_models_endpoint, verify=False, proxies={\"https\": endpoint_uri_base})\n",
    "    print(response.json())\n",
    "except requests.ConnectionError as e: \n",
    "    print(\"Did you run the server?!\")"
   ]
  },
  {
   "attachments": {},
   "cell_type": "markdown",
   "metadata": {},
   "source": [
    "# Get sample data"
   ]
  },
  {
   "cell_type": "code",
   "execution_count": 16,
   "metadata": {},
   "outputs": [
    {
     "name": "stdout",
     "output_type": "stream",
     "text": [
      "     PassengerId  Survived  Pclass                        Name     Sex  Age  \\\n",
      "274          275         1       3  Healy, Miss. Hanora \"Nora\"  female  NaN   \n",
      "\n",
      "     SibSp  Parch  Ticket  Fare Cabin Embarked  \n",
      "274      0      0  370375  7.75   NaN        Q  \n",
      "target = 1\n"
     ]
    }
   ],
   "source": [
    "# get random data point\n",
    "import pandas as pd\n",
    "data = pd.read_csv(\"../data/titanic.csv\")\n",
    "\n",
    "inference_example = data.sample()\n",
    "idx = inference_example.index[0]\n",
    "true_target = inference_example['Survived'].values[0]\n",
    "print(inference_example.head())\n",
    "print(f\"target = {true_target}\")"
   ]
  },
  {
   "cell_type": "code",
   "execution_count": 17,
   "metadata": {},
   "outputs": [
    {
     "name": "stdout",
     "output_type": "stream",
     "text": [
      "{\"PassengerId\":{\"274\":275},\"Survived\":{\"274\":1},\"Pclass\":{\"274\":3},\"Name\":{\"274\":\"Healy, Miss. Hanora \\\"Nora\\\"\"},\"Sex\":{\"274\":\"female\"},\"Age\":{\"274\":null},\"SibSp\":{\"274\":0},\"Parch\":{\"274\":0},\"Ticket\":{\"274\":\"370375\"},\"Fare\":{\"274\":7.75},\"Cabin\":{\"274\":null},\"Embarked\":{\"274\":\"Q\"}}\n"
     ]
    }
   ],
   "source": [
    "payload = inference_example.to_json()\n",
    "print(payload)"
   ]
  },
  {
   "attachments": {},
   "cell_type": "markdown",
   "metadata": {},
   "source": [
    "# Request a prediction from the server"
   ]
  },
  {
   "cell_type": "code",
   "execution_count": 22,
   "metadata": {},
   "outputs": [
    {
     "name": "stdout",
     "output_type": "stream",
     "text": [
      "{'prediction': 0, 'model_used': 'champ'}\n"
     ]
    }
   ],
   "source": [
    "pred_slug = 'get-pred?data={}&which_model=champion'.format(payload)\n",
    "prediction_endpoint = endpoint_uri_base + pred_slug\n",
    "response = requests.get(prediction_endpoint, verify=False, proxies={\"https\": endpoint_uri_base})\n",
    "print(response.json())"
   ]
  }
 ],
 "metadata": {
  "kernelspec": {
   "display_name": "Full Stack ML Corise",
   "language": "python",
   "name": "full-stack-metaflow-corise"
  },
  "language_info": {
   "codemirror_mode": {
    "name": "ipython",
    "version": 3
   },
   "file_extension": ".py",
   "mimetype": "text/x-python",
   "name": "python",
   "nbconvert_exporter": "python",
   "pygments_lexer": "ipython3",
   "version": "3.10.12"
  },
  "orig_nbformat": 4
 },
 "nbformat": 4,
 "nbformat_minor": 2
}
